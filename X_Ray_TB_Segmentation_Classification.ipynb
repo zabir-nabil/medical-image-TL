{
  "nbformat": 4,
  "nbformat_minor": 0,
  "metadata": {
    "colab": {
      "name": "X-Ray_TB_Segmentation_Classification.ipynb",
      "version": "0.3.2",
      "provenance": [],
      "collapsed_sections": [],
      "include_colab_link": true
    },
    "kernelspec": {
      "name": "python3",
      "display_name": "Python 3"
    }
  },
  "cells": [
    {
      "cell_type": "markdown",
      "metadata": {
        "id": "view-in-github",
        "colab_type": "text"
      },
      "source": [
        "<a href=\"https://colab.research.google.com/github/zabir-nabil/medical-image-TL/blob/master/X_Ray_TB_Segmentation_Classification.ipynb\" target=\"_parent\"><img src=\"https://colab.research.google.com/assets/colab-badge.svg\" alt=\"Open In Colab\"/></a>"
      ]
    },
    {
      "metadata": {
        "id": "hOct7IzaJ9Aa",
        "colab_type": "code",
        "outputId": "1ffae573-4d96-407c-9813-21160ce8c8b1",
        "colab": {
          "base_uri": "https://localhost:8080/",
          "height": 35
        }
      },
      "cell_type": "code",
      "source": [
        "print('zabiralnazi@yahoo.com')"
      ],
      "execution_count": 1,
      "outputs": [
        {
          "output_type": "stream",
          "text": [
            "zabiralnazi@yahoo.com\n"
          ],
          "name": "stdout"
        }
      ]
    },
    {
      "metadata": {
        "id": "Ka2LZr2dvqFT",
        "colab_type": "code",
        "outputId": "4097ede3-3769-480c-b50c-9d15f5bed01a",
        "colab": {
          "base_uri": "https://localhost:8080/",
          "height": 128
        }
      },
      "cell_type": "code",
      "source": [
        "# Load the Drive helper and mount\n",
        "from google.colab import drive\n",
        "\n",
        "# This will prompt for authorization.\n",
        "drive.mount('/content/drive')"
      ],
      "execution_count": 2,
      "outputs": [
        {
          "output_type": "stream",
          "text": [
            "Go to this URL in a browser: https://accounts.google.com/o/oauth2/auth?client_id=947318989803-6bn6qk8qdgf4n4g3pfee6491hc0brc4i.apps.googleusercontent.com&redirect_uri=urn%3Aietf%3Awg%3Aoauth%3A2.0%3Aoob&scope=email%20https%3A%2F%2Fwww.googleapis.com%2Fauth%2Fdocs.test%20https%3A%2F%2Fwww.googleapis.com%2Fauth%2Fdrive%20https%3A%2F%2Fwww.googleapis.com%2Fauth%2Fdrive.photos.readonly%20https%3A%2F%2Fwww.googleapis.com%2Fauth%2Fpeopleapi.readonly&response_type=code\n",
            "\n",
            "Enter your authorization code:\n",
            "··········\n",
            "Mounted at /content/drive\n"
          ],
          "name": "stdout"
        }
      ]
    },
    {
      "metadata": {
        "id": "WAfeBFz-6JGH",
        "colab_type": "code",
        "outputId": "9a689db1-3af5-4500-ee66-a8661d6cd71a",
        "colab": {
          "base_uri": "https://localhost:8080/",
          "height": 35
        }
      },
      "cell_type": "code",
      "source": [
        "% cd /content/drive/My Drive/x_ray_tb/"
      ],
      "execution_count": 3,
      "outputs": [
        {
          "output_type": "stream",
          "text": [
            "/content/drive/My Drive/x_ray_tb\n"
          ],
          "name": "stdout"
        }
      ]
    },
    {
      "metadata": {
        "id": "hK43rwJp6t-l",
        "colab_type": "code",
        "colab": {}
      },
      "cell_type": "code",
      "source": [
        "import numpy as np\n",
        "\n",
        "imgs = np.load('imgs.npy')"
      ],
      "execution_count": 0,
      "outputs": []
    },
    {
      "metadata": {
        "id": "VwwsIbz_7LAe",
        "colab_type": "code",
        "outputId": "123f4e88-b140-4feb-8e12-6e756730a594",
        "colab": {
          "base_uri": "https://localhost:8080/",
          "height": 35
        }
      },
      "cell_type": "code",
      "source": [
        "imgs.shape"
      ],
      "execution_count": 5,
      "outputs": [
        {
          "output_type": "execute_result",
          "data": {
            "text/plain": [
              "(138, 224, 224, 3)"
            ]
          },
          "metadata": {
            "tags": []
          },
          "execution_count": 5
        }
      ]
    },
    {
      "metadata": {
        "id": "xf-kR3Yv7NZY",
        "colab_type": "code",
        "outputId": "4eec098a-1f9a-4cd2-917f-4626825d3299",
        "colab": {
          "base_uri": "https://localhost:8080/",
          "height": 35
        }
      },
      "cell_type": "code",
      "source": [
        "masks = np.load('masks.npy')\n",
        "masks.shape"
      ],
      "execution_count": 6,
      "outputs": [
        {
          "output_type": "execute_result",
          "data": {
            "text/plain": [
              "(138, 224, 224)"
            ]
          },
          "metadata": {
            "tags": []
          },
          "execution_count": 6
        }
      ]
    },
    {
      "metadata": {
        "id": "ocU-rBPl7c5W",
        "colab_type": "code",
        "outputId": "af0ee7ac-a0eb-42e1-c5bc-3a81d001ddf4",
        "colab": {
          "base_uri": "https://localhost:8080/",
          "height": 35
        }
      },
      "cell_type": "code",
      "source": [
        "y = np.load('y.npy')\n",
        "y.shape"
      ],
      "execution_count": 7,
      "outputs": [
        {
          "output_type": "execute_result",
          "data": {
            "text/plain": [
              "(138, 2)"
            ]
          },
          "metadata": {
            "tags": []
          },
          "execution_count": 7
        }
      ]
    },
    {
      "metadata": {
        "id": "kmmxnYhT7izW",
        "colab_type": "code",
        "outputId": "6be1a235-95cd-4fb0-a4ce-83dea5bdf647",
        "colab": {
          "base_uri": "https://localhost:8080/",
          "height": 201
        }
      },
      "cell_type": "code",
      "source": [
        "! pip install Augmentor "
      ],
      "execution_count": 0,
      "outputs": [
        {
          "output_type": "stream",
          "text": [
            "Collecting Augmentor\n",
            "  Downloading https://files.pythonhosted.org/packages/4d/f4/b0eaa9d3b4120a5450ac92d4417907ca60fad5749c1f50ed95f720792350/Augmentor-0.2.3-py2.py3-none-any.whl\n",
            "Requirement already satisfied: numpy>=1.11.0 in /usr/local/lib/python3.6/dist-packages (from Augmentor) (1.14.6)\n",
            "Requirement already satisfied: future>=0.16.0 in /usr/local/lib/python3.6/dist-packages (from Augmentor) (0.16.0)\n",
            "Requirement already satisfied: tqdm>=4.9.0 in /usr/local/lib/python3.6/dist-packages (from Augmentor) (4.28.1)\n",
            "Requirement already satisfied: Pillow>=4.0.0 in /usr/local/lib/python3.6/dist-packages (from Augmentor) (4.0.0)\n",
            "Requirement already satisfied: olefile in /usr/local/lib/python3.6/dist-packages (from Pillow>=4.0.0->Augmentor) (0.46)\n",
            "Installing collected packages: Augmentor\n",
            "Successfully installed Augmentor-0.2.3\n"
          ],
          "name": "stdout"
        }
      ]
    },
    {
      "metadata": {
        "id": "iQI5twL47878",
        "colab_type": "code",
        "outputId": "2e14335e-461c-4ceb-f2d1-e2416c68e453",
        "colab": {
          "base_uri": "https://localhost:8080/",
          "height": 53
        }
      },
      "cell_type": "code",
      "source": [
        "print(imgs.shape)\n",
        "print(masks.shape)"
      ],
      "execution_count": 9,
      "outputs": [
        {
          "output_type": "stream",
          "text": [
            "(138, 224, 224, 3)\n",
            "(138, 224, 224)\n"
          ],
          "name": "stdout"
        }
      ]
    },
    {
      "metadata": {
        "id": "-KdoNb84A5TJ",
        "colab_type": "code",
        "outputId": "02955a12-78c1-43b5-b351-8d956f63ce0c",
        "colab": {
          "base_uri": "https://localhost:8080/",
          "height": 35
        }
      },
      "cell_type": "code",
      "source": [
        "masks = np.reshape(masks, (138,224,224,1))\n",
        "print(masks.shape)"
      ],
      "execution_count": 10,
      "outputs": [
        {
          "output_type": "stream",
          "text": [
            "(138, 224, 224, 1)\n"
          ],
          "name": "stdout"
        }
      ]
    },
    {
      "metadata": {
        "id": "IZuBnEhRARvk",
        "colab_type": "code",
        "colab": {}
      },
      "cell_type": "code",
      "source": [
        "z = []\n",
        "for i in range(138):\n",
        "  z.append([imgs[i,:,:,:], masks[i,:,:,:]])"
      ],
      "execution_count": 0,
      "outputs": []
    },
    {
      "metadata": {
        "id": "ovkcXUpRAmy4",
        "colab_type": "code",
        "outputId": "15ef8b67-8dba-4581-bef3-2940f7d2e065",
        "colab": {
          "base_uri": "https://localhost:8080/",
          "height": 90
        }
      },
      "cell_type": "code",
      "source": [
        "print(len(z))\n",
        "print(len(z[0]))\n",
        "print(z[0][0].shape)\n",
        "print(z[0][1].shape)"
      ],
      "execution_count": 12,
      "outputs": [
        {
          "output_type": "stream",
          "text": [
            "138\n",
            "2\n",
            "(224, 224, 3)\n",
            "(224, 224, 1)\n"
          ],
          "name": "stdout"
        }
      ]
    },
    {
      "metadata": {
        "id": "eFBNJCcQpkMR",
        "colab_type": "code",
        "colab": {
          "base_uri": "https://localhost:8080/",
          "height": 35
        },
        "outputId": "0096ff10-e71c-496c-8b53-c30154b8dd96"
      },
      "cell_type": "code",
      "source": [
        "import keras.backend as K"
      ],
      "execution_count": 16,
      "outputs": [
        {
          "output_type": "stream",
          "text": [
            "Using TensorFlow backend.\n"
          ],
          "name": "stderr"
        }
      ]
    },
    {
      "metadata": {
        "id": "CbGOQBiopOip",
        "colab_type": "code",
        "colab": {}
      },
      "cell_type": "code",
      "source": [
        "def dice_coef(y_true, y_pred):\n",
        "    y_true_f = (y_true).flatten()\n",
        "    y_pred_f = (y_pred).flatten()\n",
        "    intersection = np.sum(y_true_f * y_pred_f)\n",
        "    # +1 added to avoid 0/0 division\n",
        "    return (2.0 * intersection + 1.0) / (np.sum(y_true_f) + np.sum(y_pred_f) + 1.0)\n",
        "  \n",
        "def jacard_coef(y_true, y_pred):\n",
        "    y_true_f = (y_true).flatten()\n",
        "    y_pred_f = (y_pred).flatten()\n",
        "    intersection = np.sum(y_true_f * y_pred_f)\n",
        "    return (intersection + 1.0) / (np.sum(y_true_f) + np.sum(y_pred_f) - intersection + 1.0)\n",
        "  \n",
        "  \n",
        "def weighted_loss(y_true, y_pred):\n",
        "  loss1 = dice_coef(y_true, y_pred)\n",
        "  loss2 = jacard_coef(y_true, y_pred)\n",
        "  return -(loss1*0.4 + loss2*0.6)"
      ],
      "execution_count": 0,
      "outputs": []
    },
    {
      "metadata": {
        "id": "kXJ278MnqFyi",
        "colab_type": "code",
        "colab": {}
      },
      "cell_type": "code",
      "source": [
        "ax[ax>0.5] = 1.0\n",
        "ax[ax<=0.5] = 0.0"
      ],
      "execution_count": 0,
      "outputs": []
    },
    {
      "metadata": {
        "id": "jJYOCpFQpQJ3",
        "colab_type": "code",
        "colab": {
          "base_uri": "https://localhost:8080/",
          "height": 53
        },
        "outputId": "8e010023-2a85-4228-fc05-8758293bd3be"
      },
      "cell_type": "code",
      "source": [
        "#ax = np.random.rand(12,12)\n",
        "#ay = np.random.rand(12,12)\n",
        "\n",
        "print(jacard_coef(ax, ax))\n",
        "print(jacard_coef(ay, ay))"
      ],
      "execution_count": 38,
      "outputs": [
        {
          "output_type": "stream",
          "text": [
            "1.0\n",
            "0.4723545222134844\n"
          ],
          "name": "stdout"
        }
      ]
    },
    {
      "metadata": {
        "id": "oW8Y-3J7vl7B",
        "colab_type": "code",
        "colab": {
          "base_uri": "https://localhost:8080/",
          "height": 53
        },
        "outputId": "47f8327e-3d1b-42ca-996c-47249779c9ce"
      },
      "cell_type": "code",
      "source": [
        "print(weighted_loss(ax, ax))\n",
        "print(weighted_loss(ay, ay))"
      ],
      "execution_count": 39,
      "outputs": [
        {
          "output_type": "stream",
          "text": [
            "-1.0\n",
            "-0.5390491483180588\n"
          ],
          "name": "stdout"
        }
      ]
    },
    {
      "metadata": {
        "id": "sWgOkNE373Xr",
        "colab_type": "code",
        "colab": {}
      },
      "cell_type": "code",
      "source": [
        "def dice_coef(y_true, y_pred):\n",
        "    y_true_f = K.flatten(y_true)\n",
        "    y_pred_f = K.flatten(y_pred)\n",
        "    intersection = K.sum(y_true_f * y_pred_f)\n",
        "    # +1 added to avoid 0/0 division\n",
        "    return (2.0 * intersection + 1.0) / (K.sum(y_true_f) + K.sum(y_pred_f) + 1.0)\n",
        "  \n",
        "def jacard_coef(y_true, y_pred):\n",
        "    y_true_f = K.flatten(y_true)\n",
        "    y_pred_f = K.flatten(y_pred)\n",
        "    intersection = K.sum(y_true_f * y_pred_f)\n",
        "    return (intersection + 1.0) / (K.sum(y_true_f) + K.sum(y_pred_f) - intersection + 1.0)\n",
        "  \n",
        "  \n",
        "def weighted_loss(y_true, y_pred):\n",
        "  loss1 = dice_coef(y_true, y_pred)\n",
        "  loss2 = jacard_coef(y_true, y_pred)\n",
        "  return -(loss1*0.4 + loss2*0.6)"
      ],
      "execution_count": 0,
      "outputs": []
    },
    {
      "metadata": {
        "id": "40v-0KJ28Y20",
        "colab_type": "code",
        "colab": {}
      },
      "cell_type": "code",
      "source": [
        "from keras.models import Model\n",
        "from keras.layers import Input, Conv2D, MaxPooling2D, UpSampling2D, Dense, Flatten\n",
        "from keras.layers.normalization import BatchNormalization\n",
        "from keras.layers.core import SpatialDropout2D, Activation\n",
        "from keras import backend as K\n",
        "from keras.layers.merge import concatenate\n",
        "from keras.utils.data_utils import get_file\n",
        "\n",
        "# Number of image channels (for example 3 in case of RGB, or 1 for grayscale images)\n",
        "INPUT_CHANNELS = 3\n",
        "# Number of output masks (1 in case you predict only one type of objects)\n",
        "OUTPUT_MASK_CHANNELS = 1\n",
        "# Pretrained weights\n",
        "\n",
        "\n",
        "\n",
        "\n",
        "def jacard_coef_loss(y_true, y_pred):\n",
        "    return -jacard_coef(y_true, y_pred)\n",
        "\n",
        "\n",
        "def dice_coef_loss(y_true, y_pred):\n",
        "    return -dice_coef(y_true, y_pred)\n",
        "\n",
        "\n",
        "def double_conv_layer(x, size, dropout=0.10, batch_norm=True):\n",
        "    if K.image_dim_ordering() == 'th':\n",
        "        axis = 1\n",
        "    else:\n",
        "        axis = 3\n",
        "    conv = Conv2D(size, (3, 3), padding='same')(x)\n",
        "    if batch_norm is True:\n",
        "        conv = BatchNormalization(axis=axis)(conv)\n",
        "    conv = Activation('relu')(conv)\n",
        "    conv = Conv2D(size, (3, 3), padding='same')(conv)\n",
        "    if batch_norm is True:\n",
        "        conv = BatchNormalization(axis=axis)(conv)\n",
        "    conv = Activation('relu')(conv)\n",
        "    if dropout > 0:\n",
        "        conv = SpatialDropout2D(dropout)(conv)\n",
        "    return conv\n",
        "\n",
        "\n",
        "def mini_UNET(dropout_val=0.40, weights=None): # No dropout by default\n",
        "    if K.image_dim_ordering() == 'th':\n",
        "        inputs = Input((INPUT_CHANNELS, 224, 224))\n",
        "        axis = 1\n",
        "    else:\n",
        "        inputs = Input((224, 224, INPUT_CHANNELS))\n",
        "        axis = 3\n",
        "    filters = 8\n",
        "\n",
        "    conv_224 = double_conv_layer(inputs, filters)\n",
        "    pool_112 = MaxPooling2D(pool_size=(2, 2))(conv_224)\n",
        "\n",
        "    conv_112 = double_conv_layer(pool_112, 2*filters)\n",
        "    pool_56 = MaxPooling2D(pool_size=(2, 2))(conv_112)\n",
        "\n",
        "    conv_56 = double_conv_layer(pool_56, 4*filters)\n",
        "    pool_28 = MaxPooling2D(pool_size=(2, 2))(conv_56)\n",
        "\n",
        "    conv_28 = double_conv_layer(pool_28, 8*filters)\n",
        "    pool_14 = MaxPooling2D(pool_size=(2, 2))(conv_28)\n",
        "\n",
        "    conv_14 = double_conv_layer(pool_14, 16*filters)\n",
        "    pool_7 = MaxPooling2D(pool_size=(2, 2))(conv_14)\n",
        "\n",
        "    conv_7 = double_conv_layer(pool_7, 32*filters)\n",
        "\n",
        "    up_14 = concatenate([UpSampling2D(size=(2, 2))(conv_7), conv_14], axis=axis)\n",
        "    up_conv_14 = double_conv_layer(up_14, 16*filters)\n",
        "\n",
        "    up_28 = concatenate([UpSampling2D(size=(2, 2))(up_conv_14), conv_28], axis=axis)\n",
        "    up_conv_28 = double_conv_layer(up_28, 8*filters)\n",
        "\n",
        "    up_56 = concatenate([UpSampling2D(size=(2, 2))(up_conv_28), conv_56], axis=axis)\n",
        "    up_conv_56 = double_conv_layer(up_56, 4*filters)\n",
        "\n",
        "    up_112 = concatenate([UpSampling2D(size=(2, 2))(up_conv_56), conv_112], axis=axis)\n",
        "    up_conv_112 = double_conv_layer(up_112, 2*filters)\n",
        "\n",
        "    up_224 = concatenate([UpSampling2D(size=(2, 2))(up_conv_112), conv_224], axis=axis)\n",
        "    up_conv_224 = double_conv_layer(up_224, filters, dropout_val)\n",
        "\n",
        "    conv_final = Conv2D(OUTPUT_MASK_CHANNELS, (1, 1))(up_conv_224)\n",
        "    conv_final = Activation('sigmoid', name='final_seg')(conv_final)\n",
        "    \n",
        "    \n",
        "    # classification\n",
        "    flat = Flatten()(conv_7)\n",
        "    dense1 = Dense(512, activation='relu')(flat)\n",
        "    dense2 = Dense(2)(dense1)\n",
        "    class_layer = Activation('softmax', name='final_class')(dense2)\n",
        "    model = Model(inputs, [conv_final, class_layer], name=\"mini_UNET\")\n",
        "\n",
        "\n",
        "    return model"
      ],
      "execution_count": 0,
      "outputs": []
    },
    {
      "metadata": {
        "id": "1kA_c5kc8bM-",
        "colab_type": "code",
        "outputId": "7a08157d-4919-4939-fcfa-422cc583f92a",
        "colab": {
          "base_uri": "https://localhost:8080/",
          "height": 3839
        }
      },
      "cell_type": "code",
      "source": [
        "model = mini_UNET()\n",
        "model.summary()"
      ],
      "execution_count": 55,
      "outputs": [
        {
          "output_type": "stream",
          "text": [
            "__________________________________________________________________________________________________\n",
            "Layer (type)                    Output Shape         Param #     Connected to                     \n",
            "==================================================================================================\n",
            "input_4 (InputLayer)            (None, 224, 224, 3)  0                                            \n",
            "__________________________________________________________________________________________________\n",
            "conv2d_70 (Conv2D)              (None, 224, 224, 8)  224         input_4[0][0]                    \n",
            "__________________________________________________________________________________________________\n",
            "batch_normalization_67 (BatchNo (None, 224, 224, 8)  32          conv2d_70[0][0]                  \n",
            "__________________________________________________________________________________________________\n",
            "activation_71 (Activation)      (None, 224, 224, 8)  0           batch_normalization_67[0][0]     \n",
            "__________________________________________________________________________________________________\n",
            "conv2d_71 (Conv2D)              (None, 224, 224, 8)  584         activation_71[0][0]              \n",
            "__________________________________________________________________________________________________\n",
            "batch_normalization_68 (BatchNo (None, 224, 224, 8)  32          conv2d_71[0][0]                  \n",
            "__________________________________________________________________________________________________\n",
            "activation_72 (Activation)      (None, 224, 224, 8)  0           batch_normalization_68[0][0]     \n",
            "__________________________________________________________________________________________________\n",
            "spatial_dropout2d_34 (SpatialDr (None, 224, 224, 8)  0           activation_72[0][0]              \n",
            "__________________________________________________________________________________________________\n",
            "max_pooling2d_16 (MaxPooling2D) (None, 112, 112, 8)  0           spatial_dropout2d_34[0][0]       \n",
            "__________________________________________________________________________________________________\n",
            "conv2d_72 (Conv2D)              (None, 112, 112, 16) 1168        max_pooling2d_16[0][0]           \n",
            "__________________________________________________________________________________________________\n",
            "batch_normalization_69 (BatchNo (None, 112, 112, 16) 64          conv2d_72[0][0]                  \n",
            "__________________________________________________________________________________________________\n",
            "activation_73 (Activation)      (None, 112, 112, 16) 0           batch_normalization_69[0][0]     \n",
            "__________________________________________________________________________________________________\n",
            "conv2d_73 (Conv2D)              (None, 112, 112, 16) 2320        activation_73[0][0]              \n",
            "__________________________________________________________________________________________________\n",
            "batch_normalization_70 (BatchNo (None, 112, 112, 16) 64          conv2d_73[0][0]                  \n",
            "__________________________________________________________________________________________________\n",
            "activation_74 (Activation)      (None, 112, 112, 16) 0           batch_normalization_70[0][0]     \n",
            "__________________________________________________________________________________________________\n",
            "spatial_dropout2d_35 (SpatialDr (None, 112, 112, 16) 0           activation_74[0][0]              \n",
            "__________________________________________________________________________________________________\n",
            "max_pooling2d_17 (MaxPooling2D) (None, 56, 56, 16)   0           spatial_dropout2d_35[0][0]       \n",
            "__________________________________________________________________________________________________\n",
            "conv2d_74 (Conv2D)              (None, 56, 56, 32)   4640        max_pooling2d_17[0][0]           \n",
            "__________________________________________________________________________________________________\n",
            "batch_normalization_71 (BatchNo (None, 56, 56, 32)   128         conv2d_74[0][0]                  \n",
            "__________________________________________________________________________________________________\n",
            "activation_75 (Activation)      (None, 56, 56, 32)   0           batch_normalization_71[0][0]     \n",
            "__________________________________________________________________________________________________\n",
            "conv2d_75 (Conv2D)              (None, 56, 56, 32)   9248        activation_75[0][0]              \n",
            "__________________________________________________________________________________________________\n",
            "batch_normalization_72 (BatchNo (None, 56, 56, 32)   128         conv2d_75[0][0]                  \n",
            "__________________________________________________________________________________________________\n",
            "activation_76 (Activation)      (None, 56, 56, 32)   0           batch_normalization_72[0][0]     \n",
            "__________________________________________________________________________________________________\n",
            "spatial_dropout2d_36 (SpatialDr (None, 56, 56, 32)   0           activation_76[0][0]              \n",
            "__________________________________________________________________________________________________\n",
            "max_pooling2d_18 (MaxPooling2D) (None, 28, 28, 32)   0           spatial_dropout2d_36[0][0]       \n",
            "__________________________________________________________________________________________________\n",
            "conv2d_76 (Conv2D)              (None, 28, 28, 64)   18496       max_pooling2d_18[0][0]           \n",
            "__________________________________________________________________________________________________\n",
            "batch_normalization_73 (BatchNo (None, 28, 28, 64)   256         conv2d_76[0][0]                  \n",
            "__________________________________________________________________________________________________\n",
            "activation_77 (Activation)      (None, 28, 28, 64)   0           batch_normalization_73[0][0]     \n",
            "__________________________________________________________________________________________________\n",
            "conv2d_77 (Conv2D)              (None, 28, 28, 64)   36928       activation_77[0][0]              \n",
            "__________________________________________________________________________________________________\n",
            "batch_normalization_74 (BatchNo (None, 28, 28, 64)   256         conv2d_77[0][0]                  \n",
            "__________________________________________________________________________________________________\n",
            "activation_78 (Activation)      (None, 28, 28, 64)   0           batch_normalization_74[0][0]     \n",
            "__________________________________________________________________________________________________\n",
            "spatial_dropout2d_37 (SpatialDr (None, 28, 28, 64)   0           activation_78[0][0]              \n",
            "__________________________________________________________________________________________________\n",
            "max_pooling2d_19 (MaxPooling2D) (None, 14, 14, 64)   0           spatial_dropout2d_37[0][0]       \n",
            "__________________________________________________________________________________________________\n",
            "conv2d_78 (Conv2D)              (None, 14, 14, 128)  73856       max_pooling2d_19[0][0]           \n",
            "__________________________________________________________________________________________________\n",
            "batch_normalization_75 (BatchNo (None, 14, 14, 128)  512         conv2d_78[0][0]                  \n",
            "__________________________________________________________________________________________________\n",
            "activation_79 (Activation)      (None, 14, 14, 128)  0           batch_normalization_75[0][0]     \n",
            "__________________________________________________________________________________________________\n",
            "conv2d_79 (Conv2D)              (None, 14, 14, 128)  147584      activation_79[0][0]              \n",
            "__________________________________________________________________________________________________\n",
            "batch_normalization_76 (BatchNo (None, 14, 14, 128)  512         conv2d_79[0][0]                  \n",
            "__________________________________________________________________________________________________\n",
            "activation_80 (Activation)      (None, 14, 14, 128)  0           batch_normalization_76[0][0]     \n",
            "__________________________________________________________________________________________________\n",
            "spatial_dropout2d_38 (SpatialDr (None, 14, 14, 128)  0           activation_80[0][0]              \n",
            "__________________________________________________________________________________________________\n",
            "max_pooling2d_20 (MaxPooling2D) (None, 7, 7, 128)    0           spatial_dropout2d_38[0][0]       \n",
            "__________________________________________________________________________________________________\n",
            "conv2d_80 (Conv2D)              (None, 7, 7, 256)    295168      max_pooling2d_20[0][0]           \n",
            "__________________________________________________________________________________________________\n",
            "batch_normalization_77 (BatchNo (None, 7, 7, 256)    1024        conv2d_80[0][0]                  \n",
            "__________________________________________________________________________________________________\n",
            "activation_81 (Activation)      (None, 7, 7, 256)    0           batch_normalization_77[0][0]     \n",
            "__________________________________________________________________________________________________\n",
            "conv2d_81 (Conv2D)              (None, 7, 7, 256)    590080      activation_81[0][0]              \n",
            "__________________________________________________________________________________________________\n",
            "batch_normalization_78 (BatchNo (None, 7, 7, 256)    1024        conv2d_81[0][0]                  \n",
            "__________________________________________________________________________________________________\n",
            "activation_82 (Activation)      (None, 7, 7, 256)    0           batch_normalization_78[0][0]     \n",
            "__________________________________________________________________________________________________\n",
            "spatial_dropout2d_39 (SpatialDr (None, 7, 7, 256)    0           activation_82[0][0]              \n",
            "__________________________________________________________________________________________________\n",
            "up_sampling2d_16 (UpSampling2D) (None, 14, 14, 256)  0           spatial_dropout2d_39[0][0]       \n",
            "__________________________________________________________________________________________________\n",
            "concatenate_16 (Concatenate)    (None, 14, 14, 384)  0           up_sampling2d_16[0][0]           \n",
            "                                                                 spatial_dropout2d_38[0][0]       \n",
            "__________________________________________________________________________________________________\n",
            "conv2d_82 (Conv2D)              (None, 14, 14, 128)  442496      concatenate_16[0][0]             \n",
            "__________________________________________________________________________________________________\n",
            "batch_normalization_79 (BatchNo (None, 14, 14, 128)  512         conv2d_82[0][0]                  \n",
            "__________________________________________________________________________________________________\n",
            "activation_83 (Activation)      (None, 14, 14, 128)  0           batch_normalization_79[0][0]     \n",
            "__________________________________________________________________________________________________\n",
            "conv2d_83 (Conv2D)              (None, 14, 14, 128)  147584      activation_83[0][0]              \n",
            "__________________________________________________________________________________________________\n",
            "batch_normalization_80 (BatchNo (None, 14, 14, 128)  512         conv2d_83[0][0]                  \n",
            "__________________________________________________________________________________________________\n",
            "activation_84 (Activation)      (None, 14, 14, 128)  0           batch_normalization_80[0][0]     \n",
            "__________________________________________________________________________________________________\n",
            "spatial_dropout2d_40 (SpatialDr (None, 14, 14, 128)  0           activation_84[0][0]              \n",
            "__________________________________________________________________________________________________\n",
            "up_sampling2d_17 (UpSampling2D) (None, 28, 28, 128)  0           spatial_dropout2d_40[0][0]       \n",
            "__________________________________________________________________________________________________\n",
            "concatenate_17 (Concatenate)    (None, 28, 28, 192)  0           up_sampling2d_17[0][0]           \n",
            "                                                                 spatial_dropout2d_37[0][0]       \n",
            "__________________________________________________________________________________________________\n",
            "conv2d_84 (Conv2D)              (None, 28, 28, 64)   110656      concatenate_17[0][0]             \n",
            "__________________________________________________________________________________________________\n",
            "batch_normalization_81 (BatchNo (None, 28, 28, 64)   256         conv2d_84[0][0]                  \n",
            "__________________________________________________________________________________________________\n",
            "activation_85 (Activation)      (None, 28, 28, 64)   0           batch_normalization_81[0][0]     \n",
            "__________________________________________________________________________________________________\n",
            "conv2d_85 (Conv2D)              (None, 28, 28, 64)   36928       activation_85[0][0]              \n",
            "__________________________________________________________________________________________________\n",
            "batch_normalization_82 (BatchNo (None, 28, 28, 64)   256         conv2d_85[0][0]                  \n",
            "__________________________________________________________________________________________________\n",
            "activation_86 (Activation)      (None, 28, 28, 64)   0           batch_normalization_82[0][0]     \n",
            "__________________________________________________________________________________________________\n",
            "spatial_dropout2d_41 (SpatialDr (None, 28, 28, 64)   0           activation_86[0][0]              \n",
            "__________________________________________________________________________________________________\n",
            "up_sampling2d_18 (UpSampling2D) (None, 56, 56, 64)   0           spatial_dropout2d_41[0][0]       \n",
            "__________________________________________________________________________________________________\n",
            "concatenate_18 (Concatenate)    (None, 56, 56, 96)   0           up_sampling2d_18[0][0]           \n",
            "                                                                 spatial_dropout2d_36[0][0]       \n",
            "__________________________________________________________________________________________________\n",
            "conv2d_86 (Conv2D)              (None, 56, 56, 32)   27680       concatenate_18[0][0]             \n",
            "__________________________________________________________________________________________________\n",
            "batch_normalization_83 (BatchNo (None, 56, 56, 32)   128         conv2d_86[0][0]                  \n",
            "__________________________________________________________________________________________________\n",
            "activation_87 (Activation)      (None, 56, 56, 32)   0           batch_normalization_83[0][0]     \n",
            "__________________________________________________________________________________________________\n",
            "conv2d_87 (Conv2D)              (None, 56, 56, 32)   9248        activation_87[0][0]              \n",
            "__________________________________________________________________________________________________\n",
            "batch_normalization_84 (BatchNo (None, 56, 56, 32)   128         conv2d_87[0][0]                  \n",
            "__________________________________________________________________________________________________\n",
            "activation_88 (Activation)      (None, 56, 56, 32)   0           batch_normalization_84[0][0]     \n",
            "__________________________________________________________________________________________________\n",
            "spatial_dropout2d_42 (SpatialDr (None, 56, 56, 32)   0           activation_88[0][0]              \n",
            "__________________________________________________________________________________________________\n",
            "up_sampling2d_19 (UpSampling2D) (None, 112, 112, 32) 0           spatial_dropout2d_42[0][0]       \n",
            "__________________________________________________________________________________________________\n",
            "concatenate_19 (Concatenate)    (None, 112, 112, 48) 0           up_sampling2d_19[0][0]           \n",
            "                                                                 spatial_dropout2d_35[0][0]       \n",
            "__________________________________________________________________________________________________\n",
            "conv2d_88 (Conv2D)              (None, 112, 112, 16) 6928        concatenate_19[0][0]             \n",
            "__________________________________________________________________________________________________\n",
            "batch_normalization_85 (BatchNo (None, 112, 112, 16) 64          conv2d_88[0][0]                  \n",
            "__________________________________________________________________________________________________\n",
            "activation_89 (Activation)      (None, 112, 112, 16) 0           batch_normalization_85[0][0]     \n",
            "__________________________________________________________________________________________________\n",
            "conv2d_89 (Conv2D)              (None, 112, 112, 16) 2320        activation_89[0][0]              \n",
            "__________________________________________________________________________________________________\n",
            "batch_normalization_86 (BatchNo (None, 112, 112, 16) 64          conv2d_89[0][0]                  \n",
            "__________________________________________________________________________________________________\n",
            "activation_90 (Activation)      (None, 112, 112, 16) 0           batch_normalization_86[0][0]     \n",
            "__________________________________________________________________________________________________\n",
            "spatial_dropout2d_43 (SpatialDr (None, 112, 112, 16) 0           activation_90[0][0]              \n",
            "__________________________________________________________________________________________________\n",
            "up_sampling2d_20 (UpSampling2D) (None, 224, 224, 16) 0           spatial_dropout2d_43[0][0]       \n",
            "__________________________________________________________________________________________________\n",
            "concatenate_20 (Concatenate)    (None, 224, 224, 24) 0           up_sampling2d_20[0][0]           \n",
            "                                                                 spatial_dropout2d_34[0][0]       \n",
            "__________________________________________________________________________________________________\n",
            "conv2d_90 (Conv2D)              (None, 224, 224, 8)  1736        concatenate_20[0][0]             \n",
            "__________________________________________________________________________________________________\n",
            "batch_normalization_87 (BatchNo (None, 224, 224, 8)  32          conv2d_90[0][0]                  \n",
            "__________________________________________________________________________________________________\n",
            "activation_91 (Activation)      (None, 224, 224, 8)  0           batch_normalization_87[0][0]     \n",
            "__________________________________________________________________________________________________\n",
            "conv2d_91 (Conv2D)              (None, 224, 224, 8)  584         activation_91[0][0]              \n",
            "__________________________________________________________________________________________________\n",
            "batch_normalization_88 (BatchNo (None, 224, 224, 8)  32          conv2d_91[0][0]                  \n",
            "__________________________________________________________________________________________________\n",
            "activation_92 (Activation)      (None, 224, 224, 8)  0           batch_normalization_88[0][0]     \n",
            "__________________________________________________________________________________________________\n",
            "flatten_3 (Flatten)             (None, 12544)        0           spatial_dropout2d_39[0][0]       \n",
            "__________________________________________________________________________________________________\n",
            "spatial_dropout2d_44 (SpatialDr (None, 224, 224, 8)  0           activation_92[0][0]              \n",
            "__________________________________________________________________________________________________\n",
            "dense_5 (Dense)                 (None, 512)          6423040     flatten_3[0][0]                  \n",
            "__________________________________________________________________________________________________\n",
            "conv2d_92 (Conv2D)              (None, 224, 224, 1)  9           spatial_dropout2d_44[0][0]       \n",
            "__________________________________________________________________________________________________\n",
            "dense_6 (Dense)                 (None, 2)            1026        dense_5[0][0]                    \n",
            "__________________________________________________________________________________________________\n",
            "final_seg (Activation)          (None, 224, 224, 1)  0           conv2d_92[0][0]                  \n",
            "__________________________________________________________________________________________________\n",
            "final_class (Activation)        (None, 2)            0           dense_6[0][0]                    \n",
            "==================================================================================================\n",
            "Total params: 8,396,547\n",
            "Trainable params: 8,393,539\n",
            "Non-trainable params: 3,008\n",
            "__________________________________________________________________________________________________\n"
          ],
          "name": "stdout"
        }
      ]
    },
    {
      "metadata": {
        "id": "tPVsMpbR8ldU",
        "colab_type": "code",
        "colab": {}
      },
      "cell_type": "code",
      "source": [
        "from keras.models import load_model\n",
        "from keras.optimizers import Adam\n",
        "import os\n",
        "from keras.losses import binary_crossentropy\n",
        "\n",
        "out_model_path = 'unet_224_final_model.h5'\n",
        "epochs = 50\n",
        "patience = 20\n",
        "batch_size = 64\n",
        "optim_type = 'Adam'\n",
        "learning_rate = 0.01\n",
        "\n",
        "optim = Adam(lr=learning_rate)\n",
        "loss={'final_seg': weighted_loss, 'final_class': 'binary_crossentropy'}\n",
        "model.compile(optimizer=optim, loss=loss, metrics=[dice_coef, 'acc'])"
      ],
      "execution_count": 0,
      "outputs": []
    },
    {
      "metadata": {
        "id": "UoOy5uMv8RNc",
        "colab_type": "code",
        "colab": {
          "base_uri": "https://localhost:8080/",
          "height": 35
        },
        "outputId": "31b13a7b-a6d5-47b2-af8f-d1d3e91496c8"
      },
      "cell_type": "code",
      "source": [
        "y.shape"
      ],
      "execution_count": 60,
      "outputs": [
        {
          "output_type": "execute_result",
          "data": {
            "text/plain": [
              "(138, 2)"
            ]
          },
          "metadata": {
            "tags": []
          },
          "execution_count": 60
        }
      ]
    },
    {
      "metadata": {
        "id": "6zq5fLtsDFG9",
        "colab_type": "code",
        "outputId": "58e18f35-fcf0-49e0-942b-227e0979b66e",
        "colab": {
          "base_uri": "https://localhost:8080/",
          "height": 492
        }
      },
      "cell_type": "code",
      "source": [
        "history = model.fit(\n",
        "    x = imgs,\n",
        "    y = [masks,y],\n",
        "    batch_size = 64,\n",
        "    epochs=50,\n",
        "    validation_split = 0.1,\n",
        "    verbose=1)"
      ],
      "execution_count": 0,
      "outputs": [
        {
          "output_type": "stream",
          "text": [
            "Train on 124 samples, validate on 14 samples\n",
            "Epoch 1/50\n",
            "124/124 [==============================] - 70s 562ms/step - loss: 3.9965 - final_seg_loss: -1.4119 - final_class_loss: 5.4084 - final_seg_dice_coef: 1.2093 - final_seg_acc: 0.1711 - final_class_dice_coef: 0.4856 - final_class_acc: 0.5000 - val_loss: 8.5702e-08 - val_final_seg_loss: -2.3902e-08 - val_final_class_loss: 1.0960e-07 - val_final_seg_dice_coef: 2.3902e-08 - val_final_seg_acc: 0.7575 - val_final_class_dice_coef: 1.0000 - val_final_class_acc: 1.0000\n",
            "Epoch 2/50\n",
            "124/124 [==============================] - 60s 480ms/step - loss: 7.5920 - final_seg_loss: -2.7501 - final_class_loss: 10.3421 - final_seg_dice_coef: 1.5528 - final_seg_acc: 0.1945 - final_class_dice_coef: 0.3600 - final_class_acc: 0.3548 - val_loss: 8.5704e-08 - val_final_seg_loss: -2.3901e-08 - val_final_class_loss: 1.0960e-07 - val_final_seg_dice_coef: 2.3901e-08 - val_final_seg_acc: 0.7529 - val_final_class_dice_coef: 1.0000 - val_final_class_acc: 1.0000\n",
            "Epoch 3/50\n",
            "124/124 [==============================] - 59s 478ms/step - loss: 5.9797 - final_seg_loss: -4.3624 - final_class_loss: 10.3421 - final_seg_dice_coef: 1.7140 - final_seg_acc: 0.2813 - final_class_dice_coef: 0.3600 - final_class_acc: 0.3548 - val_loss: -2.0532 - val_final_seg_loss: -2.0532 - val_final_class_loss: 1.0960e-07 - val_final_seg_dice_coef: 1.4241 - val_final_seg_acc: 0.0329 - val_final_class_dice_coef: 1.0000 - val_final_class_acc: 1.0000\n",
            "Epoch 4/50\n",
            "124/124 [==============================] - 59s 476ms/step - loss: 5.0757 - final_seg_loss: -5.2664 - final_class_loss: 10.3421 - final_seg_dice_coef: 1.7644 - final_seg_acc: 0.2699 - final_class_dice_coef: 0.3600 - final_class_acc: 0.3548 - val_loss: -0.3907 - val_final_seg_loss: -0.3907 - val_final_class_loss: 1.0960e-07 - val_final_seg_dice_coef: 0.4900 - val_final_seg_acc: 0.5374 - val_final_class_dice_coef: 1.0000 - val_final_class_acc: 1.0000\n",
            "Epoch 5/50\n",
            "124/124 [==============================] - 59s 478ms/step - loss: 1.2384 - final_seg_loss: -9.1037 - final_class_loss: 10.3421 - final_seg_dice_coef: 1.8639 - final_seg_acc: 0.3182 - final_class_dice_coef: 0.3600 - final_class_acc: 0.3548 - val_loss: -36.7548 - val_final_seg_loss: -36.7548 - val_final_class_loss: 1.0960e-07 - val_final_seg_dice_coef: 1.9672 - val_final_seg_acc: 0.0066 - val_final_class_dice_coef: 1.0000 - val_final_class_acc: 1.0000\n",
            "Epoch 6/50\n",
            "124/124 [==============================] - 60s 480ms/step - loss: 3.0251 - final_seg_loss: -7.3170 - final_class_loss: 10.3421 - final_seg_dice_coef: 1.8149 - final_seg_acc: 0.3268 - final_class_dice_coef: 0.3600 - final_class_acc: 0.3548 - val_loss: -36.9998 - val_final_seg_loss: -36.9998 - val_final_class_loss: 1.0960e-07 - val_final_seg_dice_coef: 1.9674 - val_final_seg_acc: 0.0126 - val_final_class_dice_coef: 1.0000 - val_final_class_acc: 1.0000\n",
            "Epoch 7/50\n",
            "124/124 [==============================] - 59s 477ms/step - loss: -3.5890 - final_seg_loss: -13.9311 - final_class_loss: 10.3421 - final_seg_dice_coef: 1.9121 - final_seg_acc: 0.2750 - final_class_dice_coef: 0.3600 - final_class_acc: 0.3548 - val_loss: -42.4682 - val_final_seg_loss: -42.4682 - val_final_class_loss: 1.0960e-07 - val_final_seg_dice_coef: 1.9716 - val_final_seg_acc: 0.1458 - val_final_class_dice_coef: 1.0000 - val_final_class_acc: 1.0000\n",
            "Epoch 8/50\n",
            "124/124 [==============================] - 59s 475ms/step - loss: -6.7902 - final_seg_loss: -17.1323 - final_class_loss: 10.3421 - final_seg_dice_coef: 1.9288 - final_seg_acc: 0.2644 - final_class_dice_coef: 0.3600 - final_class_acc: 0.3548 - val_loss: -46.3283 - val_final_seg_loss: -46.3283 - val_final_class_loss: 1.0960e-07 - val_final_seg_dice_coef: 1.9740 - val_final_seg_acc: 0.2178 - val_final_class_dice_coef: 1.0000 - val_final_class_acc: 1.0000\n",
            "Epoch 9/50\n",
            "124/124 [==============================] - 59s 475ms/step - loss: -3.9106 - final_seg_loss: -14.2527 - final_class_loss: 10.3421 - final_seg_dice_coef: 1.9142 - final_seg_acc: 0.2385 - final_class_dice_coef: 0.3600 - final_class_acc: 0.3548 - val_loss: -49.7461 - val_final_seg_loss: -49.7461 - val_final_class_loss: 1.0960e-07 - val_final_seg_dice_coef: 1.9758 - val_final_seg_acc: 0.2733 - val_final_class_dice_coef: 1.0000 - val_final_class_acc: 1.0000\n",
            "Epoch 10/50\n",
            "124/124 [==============================] - 59s 476ms/step - loss: -10.1092 - final_seg_loss: -20.4512 - final_class_loss: 10.3421 - final_seg_dice_coef: 1.9408 - final_seg_acc: 0.2503 - final_class_dice_coef: 0.3600 - final_class_acc: 0.3548 - val_loss: -37.1015 - val_final_seg_loss: -37.1015 - val_final_class_loss: 1.0960e-07 - val_final_seg_dice_coef: 1.9675 - val_final_seg_acc: 0.0161 - val_final_class_dice_coef: 1.0000 - val_final_class_acc: 1.0000\n",
            "Epoch 11/50\n",
            "124/124 [==============================] - 59s 479ms/step - loss: -12.6943 - final_seg_loss: -23.0364 - final_class_loss: 10.3421 - final_seg_dice_coef: 1.9439 - final_seg_acc: 0.2747 - final_class_dice_coef: 0.3600 - final_class_acc: 0.3548 - val_loss: -38.0707 - val_final_seg_loss: -38.0707 - val_final_class_loss: 1.0960e-07 - val_final_seg_dice_coef: 1.9683 - val_final_seg_acc: 0.0388 - val_final_class_dice_coef: 1.0000 - val_final_class_acc: 1.0000\n",
            "Epoch 12/50\n",
            " 64/124 [==============>...............] - ETA: 27s - loss: -12.2243 - final_seg_loss: -22.2432 - final_class_loss: 10.0189 - final_seg_dice_coef: 1.9456 - final_seg_acc: 0.2923 - final_class_dice_coef: 0.3798 - final_class_acc: 0.3750"
          ],
          "name": "stdout"
        }
      ]
    },
    {
      "metadata": {
        "id": "WzD3ZSx4DbRz",
        "colab_type": "code",
        "colab": {}
      },
      "cell_type": "code",
      "source": [
        ""
      ],
      "execution_count": 0,
      "outputs": []
    }
  ]
}