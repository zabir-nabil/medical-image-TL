{
  "nbformat": 4,
  "nbformat_minor": 0,
  "metadata": {
    "colab": {
      "name": "X-Ray_TB_Segmentation_Classification.ipynb",
      "version": "0.3.2",
      "provenance": [],
      "collapsed_sections": [],
      "include_colab_link": true
    },
    "kernelspec": {
      "name": "python3",
      "display_name": "Python 3"
    }
  },
  "cells": [
    {
      "cell_type": "markdown",
      "metadata": {
        "id": "view-in-github",
        "colab_type": "text"
      },
      "source": [
        "<a href=\"https://colab.research.google.com/github/zabir-nabil/medical-image-TL/blob/master/X_Ray_TB_Segmentation_Classification.ipynb\" target=\"_parent\"><img src=\"https://colab.research.google.com/assets/colab-badge.svg\" alt=\"Open In Colab\"/></a>"
      ]
    },
    {
      "metadata": {
        "id": "hOct7IzaJ9Aa",
        "colab_type": "code",
        "outputId": "04ec032e-ea0f-4e0f-c656-f101ccac31e3",
        "colab": {
          "base_uri": "https://localhost:8080/",
          "height": 35
        }
      },
      "cell_type": "code",
      "source": [
        "print('zabiralnazi@yahoo.com')"
      ],
      "execution_count": 0,
      "outputs": [
        {
          "output_type": "stream",
          "text": [
            "zabiralnazi@yahoo.com\n"
          ],
          "name": "stdout"
        }
      ]
    },
    {
      "metadata": {
        "id": "Ka2LZr2dvqFT",
        "colab_type": "code",
        "outputId": "b3d6794f-49c5-42fd-810f-0f9c5f442c38",
        "colab": {
          "base_uri": "https://localhost:8080/",
          "height": 128
        }
      },
      "cell_type": "code",
      "source": [
        "# Load the Drive helper and mount\n",
        "from google.colab import drive\n",
        "\n",
        "# This will prompt for authorization.\n",
        "drive.mount('/content/drive')"
      ],
      "execution_count": 0,
      "outputs": [
        {
          "output_type": "stream",
          "text": [
            "Go to this URL in a browser: https://accounts.google.com/o/oauth2/auth?client_id=947318989803-6bn6qk8qdgf4n4g3pfee6491hc0brc4i.apps.googleusercontent.com&redirect_uri=urn%3Aietf%3Awg%3Aoauth%3A2.0%3Aoob&scope=email%20https%3A%2F%2Fwww.googleapis.com%2Fauth%2Fdocs.test%20https%3A%2F%2Fwww.googleapis.com%2Fauth%2Fdrive%20https%3A%2F%2Fwww.googleapis.com%2Fauth%2Fdrive.photos.readonly%20https%3A%2F%2Fwww.googleapis.com%2Fauth%2Fpeopleapi.readonly&response_type=code\n",
            "\n",
            "Enter your authorization code:\n",
            "··········\n",
            "Mounted at /content/drive\n"
          ],
          "name": "stdout"
        }
      ]
    },
    {
      "metadata": {
        "id": "WAfeBFz-6JGH",
        "colab_type": "code",
        "outputId": "7e61c294-839b-40d6-d5d5-067cd8717ebd",
        "colab": {
          "base_uri": "https://localhost:8080/",
          "height": 35
        }
      },
      "cell_type": "code",
      "source": [
        "% cd /content/drive/My Drive/x_ray_tb/"
      ],
      "execution_count": 0,
      "outputs": [
        {
          "output_type": "stream",
          "text": [
            "/content/drive/My Drive/x_ray_tb\n"
          ],
          "name": "stdout"
        }
      ]
    },
    {
      "metadata": {
        "id": "hK43rwJp6t-l",
        "colab_type": "code",
        "colab": {}
      },
      "cell_type": "code",
      "source": [
        "import numpy as np\n",
        "\n",
        "imgs = np.load('imgs.npy')"
      ],
      "execution_count": 0,
      "outputs": []
    },
    {
      "metadata": {
        "id": "VwwsIbz_7LAe",
        "colab_type": "code",
        "outputId": "5283ed28-818c-4373-87aa-b9fad6255a2d",
        "colab": {
          "base_uri": "https://localhost:8080/",
          "height": 35
        }
      },
      "cell_type": "code",
      "source": [
        "imgs.shape"
      ],
      "execution_count": 0,
      "outputs": [
        {
          "output_type": "execute_result",
          "data": {
            "text/plain": [
              "(138, 224, 224, 3)"
            ]
          },
          "metadata": {
            "tags": []
          },
          "execution_count": 7
        }
      ]
    },
    {
      "metadata": {
        "id": "xf-kR3Yv7NZY",
        "colab_type": "code",
        "outputId": "00e4a00b-2f20-4464-9186-888fe255844f",
        "colab": {
          "base_uri": "https://localhost:8080/",
          "height": 35
        }
      },
      "cell_type": "code",
      "source": [
        "masks = np.load('masks.npy')\n",
        "masks.shape"
      ],
      "execution_count": 0,
      "outputs": [
        {
          "output_type": "execute_result",
          "data": {
            "text/plain": [
              "(138, 224, 224)"
            ]
          },
          "metadata": {
            "tags": []
          },
          "execution_count": 8
        }
      ]
    },
    {
      "metadata": {
        "id": "ocU-rBPl7c5W",
        "colab_type": "code",
        "outputId": "14a14923-4c1f-4eba-ad62-78d16a93ac75",
        "colab": {
          "base_uri": "https://localhost:8080/",
          "height": 35
        }
      },
      "cell_type": "code",
      "source": [
        "y = np.load('y.npy')\n",
        "y.shape"
      ],
      "execution_count": 0,
      "outputs": [
        {
          "output_type": "execute_result",
          "data": {
            "text/plain": [
              "(138, 2)"
            ]
          },
          "metadata": {
            "tags": []
          },
          "execution_count": 9
        }
      ]
    },
    {
      "metadata": {
        "id": "kmmxnYhT7izW",
        "colab_type": "code",
        "outputId": "6be1a235-95cd-4fb0-a4ce-83dea5bdf647",
        "colab": {
          "base_uri": "https://localhost:8080/",
          "height": 201
        }
      },
      "cell_type": "code",
      "source": [
        "! pip install Augmentor "
      ],
      "execution_count": 0,
      "outputs": [
        {
          "output_type": "stream",
          "text": [
            "Collecting Augmentor\n",
            "  Downloading https://files.pythonhosted.org/packages/4d/f4/b0eaa9d3b4120a5450ac92d4417907ca60fad5749c1f50ed95f720792350/Augmentor-0.2.3-py2.py3-none-any.whl\n",
            "Requirement already satisfied: numpy>=1.11.0 in /usr/local/lib/python3.6/dist-packages (from Augmentor) (1.14.6)\n",
            "Requirement already satisfied: future>=0.16.0 in /usr/local/lib/python3.6/dist-packages (from Augmentor) (0.16.0)\n",
            "Requirement already satisfied: tqdm>=4.9.0 in /usr/local/lib/python3.6/dist-packages (from Augmentor) (4.28.1)\n",
            "Requirement already satisfied: Pillow>=4.0.0 in /usr/local/lib/python3.6/dist-packages (from Augmentor) (4.0.0)\n",
            "Requirement already satisfied: olefile in /usr/local/lib/python3.6/dist-packages (from Pillow>=4.0.0->Augmentor) (0.46)\n",
            "Installing collected packages: Augmentor\n",
            "Successfully installed Augmentor-0.2.3\n"
          ],
          "name": "stdout"
        }
      ]
    },
    {
      "metadata": {
        "id": "iQI5twL47878",
        "colab_type": "code",
        "outputId": "810b7d87-0f43-45c1-c9e1-56208163575b",
        "colab": {
          "base_uri": "https://localhost:8080/",
          "height": 53
        }
      },
      "cell_type": "code",
      "source": [
        "print(imgs.shape)\n",
        "print(masks.shape)"
      ],
      "execution_count": 0,
      "outputs": [
        {
          "output_type": "stream",
          "text": [
            "(138, 224, 224, 3)\n",
            "(138, 224, 224)\n"
          ],
          "name": "stdout"
        }
      ]
    },
    {
      "metadata": {
        "id": "-KdoNb84A5TJ",
        "colab_type": "code",
        "outputId": "e475b087-8bb3-42fd-832f-1ea26aeff140",
        "colab": {
          "base_uri": "https://localhost:8080/",
          "height": 35
        }
      },
      "cell_type": "code",
      "source": [
        "masks = np.reshape(masks, (138,224,224,1))\n",
        "print(masks.shape)"
      ],
      "execution_count": 0,
      "outputs": [
        {
          "output_type": "stream",
          "text": [
            "(138, 224, 224, 1)\n"
          ],
          "name": "stdout"
        }
      ]
    },
    {
      "metadata": {
        "id": "IZuBnEhRARvk",
        "colab_type": "code",
        "colab": {}
      },
      "cell_type": "code",
      "source": [
        "z = []\n",
        "for i in range(138):\n",
        "  z.append([imgs[i,:,:,:], masks[i,:,:,:]])"
      ],
      "execution_count": 0,
      "outputs": []
    },
    {
      "metadata": {
        "id": "ovkcXUpRAmy4",
        "colab_type": "code",
        "outputId": "44d1f229-80cc-4881-893e-fdfe1619d0b3",
        "colab": {
          "base_uri": "https://localhost:8080/",
          "height": 90
        }
      },
      "cell_type": "code",
      "source": [
        "print(len(z))\n",
        "print(len(z[0]))\n",
        "print(z[0][0].shape)\n",
        "print(z[0][1].shape)"
      ],
      "execution_count": 0,
      "outputs": [
        {
          "output_type": "stream",
          "text": [
            "138\n",
            "2\n",
            "(224, 224, 3)\n",
            "(224, 224, 1)\n"
          ],
          "name": "stdout"
        }
      ]
    },
    {
      "metadata": {
        "id": "40v-0KJ28Y20",
        "colab_type": "code",
        "colab": {}
      },
      "cell_type": "code",
      "source": [
        "from keras.models import Model\n",
        "from keras.layers import Input, Conv2D, MaxPooling2D, UpSampling2D\n",
        "from keras.layers.normalization import BatchNormalization\n",
        "from keras.layers.core import SpatialDropout2D, Activation\n",
        "from keras import backend as K\n",
        "from keras.layers.merge import concatenate\n",
        "from keras.utils.data_utils import get_file\n",
        "\n",
        "# Number of image channels (for example 3 in case of RGB, or 1 for grayscale images)\n",
        "INPUT_CHANNELS = 3\n",
        "# Number of output masks (1 in case you predict only one type of objects)\n",
        "OUTPUT_MASK_CHANNELS = 1\n",
        "# Pretrained weights\n",
        "\n",
        "\n",
        "\n",
        "\n",
        "\n",
        "def dice_coef(y_true, y_pred):\n",
        "    y_true_f = K.flatten(y_true)\n",
        "    y_pred_f = K.flatten(y_pred)\n",
        "    intersection = K.sum(y_true_f * y_pred_f)\n",
        "    # +1 added to avoid 0/0 division\n",
        "    return (2.0 * intersection + 1.0) / (K.sum(y_true_f) + K.sum(y_pred_f) + 1.0)\n",
        "  \n",
        "\n",
        "\n",
        "def jacard_coef(y_true, y_pred):\n",
        "    y_true_f = K.flatten(y_true)\n",
        "    y_pred_f = K.flatten(y_pred)\n",
        "    intersection = K.sum(y_true_f * y_pred_f)\n",
        "    return (intersection + 1.0) / (K.sum(y_true_f) + K.sum(y_pred_f) - intersection + 1.0)\n",
        "\n",
        "\n",
        "def jacard_coef_loss(y_true, y_pred):\n",
        "    return -jacard_coef(y_true, y_pred)\n",
        "\n",
        "\n",
        "def dice_coef_loss(y_true, y_pred):\n",
        "    return -dice_coef(y_true, y_pred)\n",
        "\n",
        "\n",
        "def double_conv_layer(x, size, dropout=0.20, batch_norm=True):\n",
        "    if K.image_dim_ordering() == 'th':\n",
        "        axis = 1\n",
        "    else:\n",
        "        axis = 3\n",
        "    conv = Conv2D(size, (3, 3), padding='same')(x)\n",
        "    if batch_norm is True:\n",
        "        conv = BatchNormalization(axis=axis)(conv)\n",
        "    conv = Activation('relu')(conv)\n",
        "    conv = Conv2D(size, (3, 3), padding='same')(conv)\n",
        "    if batch_norm is True:\n",
        "        conv = BatchNormalization(axis=axis)(conv)\n",
        "    conv = Activation('relu')(conv)\n",
        "    if dropout > 0:\n",
        "        conv = SpatialDropout2D(dropout)(conv)\n",
        "    return conv\n",
        "\n",
        "\n",
        "def UNET_224(dropout_val=0.40, weights=None): # No dropout by default\n",
        "    if K.image_dim_ordering() == 'th':\n",
        "        inputs = Input((INPUT_CHANNELS, 224, 224))\n",
        "        axis = 1\n",
        "    else:\n",
        "        inputs = Input((224, 224, INPUT_CHANNELS))\n",
        "        axis = 3\n",
        "    filters = 8\n",
        "\n",
        "    conv_224 = double_conv_layer(inputs, filters)\n",
        "    pool_112 = MaxPooling2D(pool_size=(2, 2))(conv_224)\n",
        "\n",
        "    conv_112 = double_conv_layer(pool_112, 2*filters)\n",
        "    pool_56 = MaxPooling2D(pool_size=(2, 2))(conv_112)\n",
        "\n",
        "    conv_56 = double_conv_layer(pool_56, 4*filters)\n",
        "    pool_28 = MaxPooling2D(pool_size=(2, 2))(conv_56)\n",
        "\n",
        "    conv_28 = double_conv_layer(pool_28, 8*filters)\n",
        "    pool_14 = MaxPooling2D(pool_size=(2, 2))(conv_28)\n",
        "\n",
        "    conv_14 = double_conv_layer(pool_14, 16*filters)\n",
        "    pool_7 = MaxPooling2D(pool_size=(2, 2))(conv_14)\n",
        "\n",
        "    conv_7 = double_conv_layer(pool_7, 32*filters)\n",
        "\n",
        "    up_14 = concatenate([UpSampling2D(size=(2, 2))(conv_7), conv_14], axis=axis)\n",
        "    up_conv_14 = double_conv_layer(up_14, 16*filters)\n",
        "\n",
        "    up_28 = concatenate([UpSampling2D(size=(2, 2))(up_conv_14), conv_28], axis=axis)\n",
        "    up_conv_28 = double_conv_layer(up_28, 8*filters)\n",
        "\n",
        "    up_56 = concatenate([UpSampling2D(size=(2, 2))(up_conv_28), conv_56], axis=axis)\n",
        "    up_conv_56 = double_conv_layer(up_56, 4*filters)\n",
        "\n",
        "    up_112 = concatenate([UpSampling2D(size=(2, 2))(up_conv_56), conv_112], axis=axis)\n",
        "    up_conv_112 = double_conv_layer(up_112, 2*filters)\n",
        "\n",
        "    up_224 = concatenate([UpSampling2D(size=(2, 2))(up_conv_112), conv_224], axis=axis)\n",
        "    up_conv_224 = double_conv_layer(up_224, filters, dropout_val)\n",
        "\n",
        "    conv_final = Conv2D(OUTPUT_MASK_CHANNELS, (1, 1))(up_conv_224)\n",
        "    conv_final = Activation('sigmoid')(conv_final)\n",
        "\n",
        "    model = Model(inputs, conv_final, name=\"UNET_224\")\n",
        "\n",
        "\n",
        "    return model"
      ],
      "execution_count": 0,
      "outputs": []
    },
    {
      "metadata": {
        "id": "1kA_c5kc8bM-",
        "colab_type": "code",
        "outputId": "6f84182a-23ea-4cd0-d546-2ac3b8e41c46",
        "colab": {
          "base_uri": "https://localhost:8080/",
          "height": 3693
        }
      },
      "cell_type": "code",
      "source": [
        "model = UNET_224()\n",
        "model.summary()"
      ],
      "execution_count": 0,
      "outputs": [
        {
          "output_type": "stream",
          "text": [
            "__________________________________________________________________________________________________\n",
            "Layer (type)                    Output Shape         Param #     Connected to                     \n",
            "==================================================================================================\n",
            "input_3 (InputLayer)            (None, 224, 224, 3)  0                                            \n",
            "__________________________________________________________________________________________________\n",
            "conv2d_47 (Conv2D)              (None, 224, 224, 8)  224         input_3[0][0]                    \n",
            "__________________________________________________________________________________________________\n",
            "batch_normalization_45 (BatchNo (None, 224, 224, 8)  32          conv2d_47[0][0]                  \n",
            "__________________________________________________________________________________________________\n",
            "activation_47 (Activation)      (None, 224, 224, 8)  0           batch_normalization_45[0][0]     \n",
            "__________________________________________________________________________________________________\n",
            "conv2d_48 (Conv2D)              (None, 224, 224, 8)  584         activation_47[0][0]              \n",
            "__________________________________________________________________________________________________\n",
            "batch_normalization_46 (BatchNo (None, 224, 224, 8)  32          conv2d_48[0][0]                  \n",
            "__________________________________________________________________________________________________\n",
            "activation_48 (Activation)      (None, 224, 224, 8)  0           batch_normalization_46[0][0]     \n",
            "__________________________________________________________________________________________________\n",
            "spatial_dropout2d_23 (SpatialDr (None, 224, 224, 8)  0           activation_48[0][0]              \n",
            "__________________________________________________________________________________________________\n",
            "max_pooling2d_11 (MaxPooling2D) (None, 112, 112, 8)  0           spatial_dropout2d_23[0][0]       \n",
            "__________________________________________________________________________________________________\n",
            "conv2d_49 (Conv2D)              (None, 112, 112, 16) 1168        max_pooling2d_11[0][0]           \n",
            "__________________________________________________________________________________________________\n",
            "batch_normalization_47 (BatchNo (None, 112, 112, 16) 64          conv2d_49[0][0]                  \n",
            "__________________________________________________________________________________________________\n",
            "activation_49 (Activation)      (None, 112, 112, 16) 0           batch_normalization_47[0][0]     \n",
            "__________________________________________________________________________________________________\n",
            "conv2d_50 (Conv2D)              (None, 112, 112, 16) 2320        activation_49[0][0]              \n",
            "__________________________________________________________________________________________________\n",
            "batch_normalization_48 (BatchNo (None, 112, 112, 16) 64          conv2d_50[0][0]                  \n",
            "__________________________________________________________________________________________________\n",
            "activation_50 (Activation)      (None, 112, 112, 16) 0           batch_normalization_48[0][0]     \n",
            "__________________________________________________________________________________________________\n",
            "spatial_dropout2d_24 (SpatialDr (None, 112, 112, 16) 0           activation_50[0][0]              \n",
            "__________________________________________________________________________________________________\n",
            "max_pooling2d_12 (MaxPooling2D) (None, 56, 56, 16)   0           spatial_dropout2d_24[0][0]       \n",
            "__________________________________________________________________________________________________\n",
            "conv2d_51 (Conv2D)              (None, 56, 56, 32)   4640        max_pooling2d_12[0][0]           \n",
            "__________________________________________________________________________________________________\n",
            "batch_normalization_49 (BatchNo (None, 56, 56, 32)   128         conv2d_51[0][0]                  \n",
            "__________________________________________________________________________________________________\n",
            "activation_51 (Activation)      (None, 56, 56, 32)   0           batch_normalization_49[0][0]     \n",
            "__________________________________________________________________________________________________\n",
            "conv2d_52 (Conv2D)              (None, 56, 56, 32)   9248        activation_51[0][0]              \n",
            "__________________________________________________________________________________________________\n",
            "batch_normalization_50 (BatchNo (None, 56, 56, 32)   128         conv2d_52[0][0]                  \n",
            "__________________________________________________________________________________________________\n",
            "activation_52 (Activation)      (None, 56, 56, 32)   0           batch_normalization_50[0][0]     \n",
            "__________________________________________________________________________________________________\n",
            "spatial_dropout2d_25 (SpatialDr (None, 56, 56, 32)   0           activation_52[0][0]              \n",
            "__________________________________________________________________________________________________\n",
            "max_pooling2d_13 (MaxPooling2D) (None, 28, 28, 32)   0           spatial_dropout2d_25[0][0]       \n",
            "__________________________________________________________________________________________________\n",
            "conv2d_53 (Conv2D)              (None, 28, 28, 64)   18496       max_pooling2d_13[0][0]           \n",
            "__________________________________________________________________________________________________\n",
            "batch_normalization_51 (BatchNo (None, 28, 28, 64)   256         conv2d_53[0][0]                  \n",
            "__________________________________________________________________________________________________\n",
            "activation_53 (Activation)      (None, 28, 28, 64)   0           batch_normalization_51[0][0]     \n",
            "__________________________________________________________________________________________________\n",
            "conv2d_54 (Conv2D)              (None, 28, 28, 64)   36928       activation_53[0][0]              \n",
            "__________________________________________________________________________________________________\n",
            "batch_normalization_52 (BatchNo (None, 28, 28, 64)   256         conv2d_54[0][0]                  \n",
            "__________________________________________________________________________________________________\n",
            "activation_54 (Activation)      (None, 28, 28, 64)   0           batch_normalization_52[0][0]     \n",
            "__________________________________________________________________________________________________\n",
            "spatial_dropout2d_26 (SpatialDr (None, 28, 28, 64)   0           activation_54[0][0]              \n",
            "__________________________________________________________________________________________________\n",
            "max_pooling2d_14 (MaxPooling2D) (None, 14, 14, 64)   0           spatial_dropout2d_26[0][0]       \n",
            "__________________________________________________________________________________________________\n",
            "conv2d_55 (Conv2D)              (None, 14, 14, 128)  73856       max_pooling2d_14[0][0]           \n",
            "__________________________________________________________________________________________________\n",
            "batch_normalization_53 (BatchNo (None, 14, 14, 128)  512         conv2d_55[0][0]                  \n",
            "__________________________________________________________________________________________________\n",
            "activation_55 (Activation)      (None, 14, 14, 128)  0           batch_normalization_53[0][0]     \n",
            "__________________________________________________________________________________________________\n",
            "conv2d_56 (Conv2D)              (None, 14, 14, 128)  147584      activation_55[0][0]              \n",
            "__________________________________________________________________________________________________\n",
            "batch_normalization_54 (BatchNo (None, 14, 14, 128)  512         conv2d_56[0][0]                  \n",
            "__________________________________________________________________________________________________\n",
            "activation_56 (Activation)      (None, 14, 14, 128)  0           batch_normalization_54[0][0]     \n",
            "__________________________________________________________________________________________________\n",
            "spatial_dropout2d_27 (SpatialDr (None, 14, 14, 128)  0           activation_56[0][0]              \n",
            "__________________________________________________________________________________________________\n",
            "max_pooling2d_15 (MaxPooling2D) (None, 7, 7, 128)    0           spatial_dropout2d_27[0][0]       \n",
            "__________________________________________________________________________________________________\n",
            "conv2d_57 (Conv2D)              (None, 7, 7, 256)    295168      max_pooling2d_15[0][0]           \n",
            "__________________________________________________________________________________________________\n",
            "batch_normalization_55 (BatchNo (None, 7, 7, 256)    1024        conv2d_57[0][0]                  \n",
            "__________________________________________________________________________________________________\n",
            "activation_57 (Activation)      (None, 7, 7, 256)    0           batch_normalization_55[0][0]     \n",
            "__________________________________________________________________________________________________\n",
            "conv2d_58 (Conv2D)              (None, 7, 7, 256)    590080      activation_57[0][0]              \n",
            "__________________________________________________________________________________________________\n",
            "batch_normalization_56 (BatchNo (None, 7, 7, 256)    1024        conv2d_58[0][0]                  \n",
            "__________________________________________________________________________________________________\n",
            "activation_58 (Activation)      (None, 7, 7, 256)    0           batch_normalization_56[0][0]     \n",
            "__________________________________________________________________________________________________\n",
            "spatial_dropout2d_28 (SpatialDr (None, 7, 7, 256)    0           activation_58[0][0]              \n",
            "__________________________________________________________________________________________________\n",
            "up_sampling2d_11 (UpSampling2D) (None, 14, 14, 256)  0           spatial_dropout2d_28[0][0]       \n",
            "__________________________________________________________________________________________________\n",
            "concatenate_11 (Concatenate)    (None, 14, 14, 384)  0           up_sampling2d_11[0][0]           \n",
            "                                                                 spatial_dropout2d_27[0][0]       \n",
            "__________________________________________________________________________________________________\n",
            "conv2d_59 (Conv2D)              (None, 14, 14, 128)  442496      concatenate_11[0][0]             \n",
            "__________________________________________________________________________________________________\n",
            "batch_normalization_57 (BatchNo (None, 14, 14, 128)  512         conv2d_59[0][0]                  \n",
            "__________________________________________________________________________________________________\n",
            "activation_59 (Activation)      (None, 14, 14, 128)  0           batch_normalization_57[0][0]     \n",
            "__________________________________________________________________________________________________\n",
            "conv2d_60 (Conv2D)              (None, 14, 14, 128)  147584      activation_59[0][0]              \n",
            "__________________________________________________________________________________________________\n",
            "batch_normalization_58 (BatchNo (None, 14, 14, 128)  512         conv2d_60[0][0]                  \n",
            "__________________________________________________________________________________________________\n",
            "activation_60 (Activation)      (None, 14, 14, 128)  0           batch_normalization_58[0][0]     \n",
            "__________________________________________________________________________________________________\n",
            "spatial_dropout2d_29 (SpatialDr (None, 14, 14, 128)  0           activation_60[0][0]              \n",
            "__________________________________________________________________________________________________\n",
            "up_sampling2d_12 (UpSampling2D) (None, 28, 28, 128)  0           spatial_dropout2d_29[0][0]       \n",
            "__________________________________________________________________________________________________\n",
            "concatenate_12 (Concatenate)    (None, 28, 28, 192)  0           up_sampling2d_12[0][0]           \n",
            "                                                                 spatial_dropout2d_26[0][0]       \n",
            "__________________________________________________________________________________________________\n",
            "conv2d_61 (Conv2D)              (None, 28, 28, 64)   110656      concatenate_12[0][0]             \n",
            "__________________________________________________________________________________________________\n",
            "batch_normalization_59 (BatchNo (None, 28, 28, 64)   256         conv2d_61[0][0]                  \n",
            "__________________________________________________________________________________________________\n",
            "activation_61 (Activation)      (None, 28, 28, 64)   0           batch_normalization_59[0][0]     \n",
            "__________________________________________________________________________________________________\n",
            "conv2d_62 (Conv2D)              (None, 28, 28, 64)   36928       activation_61[0][0]              \n",
            "__________________________________________________________________________________________________\n",
            "batch_normalization_60 (BatchNo (None, 28, 28, 64)   256         conv2d_62[0][0]                  \n",
            "__________________________________________________________________________________________________\n",
            "activation_62 (Activation)      (None, 28, 28, 64)   0           batch_normalization_60[0][0]     \n",
            "__________________________________________________________________________________________________\n",
            "spatial_dropout2d_30 (SpatialDr (None, 28, 28, 64)   0           activation_62[0][0]              \n",
            "__________________________________________________________________________________________________\n",
            "up_sampling2d_13 (UpSampling2D) (None, 56, 56, 64)   0           spatial_dropout2d_30[0][0]       \n",
            "__________________________________________________________________________________________________\n",
            "concatenate_13 (Concatenate)    (None, 56, 56, 96)   0           up_sampling2d_13[0][0]           \n",
            "                                                                 spatial_dropout2d_25[0][0]       \n",
            "__________________________________________________________________________________________________\n",
            "conv2d_63 (Conv2D)              (None, 56, 56, 32)   27680       concatenate_13[0][0]             \n",
            "__________________________________________________________________________________________________\n",
            "batch_normalization_61 (BatchNo (None, 56, 56, 32)   128         conv2d_63[0][0]                  \n",
            "__________________________________________________________________________________________________\n",
            "activation_63 (Activation)      (None, 56, 56, 32)   0           batch_normalization_61[0][0]     \n",
            "__________________________________________________________________________________________________\n",
            "conv2d_64 (Conv2D)              (None, 56, 56, 32)   9248        activation_63[0][0]              \n",
            "__________________________________________________________________________________________________\n",
            "batch_normalization_62 (BatchNo (None, 56, 56, 32)   128         conv2d_64[0][0]                  \n",
            "__________________________________________________________________________________________________\n",
            "activation_64 (Activation)      (None, 56, 56, 32)   0           batch_normalization_62[0][0]     \n",
            "__________________________________________________________________________________________________\n",
            "spatial_dropout2d_31 (SpatialDr (None, 56, 56, 32)   0           activation_64[0][0]              \n",
            "__________________________________________________________________________________________________\n",
            "up_sampling2d_14 (UpSampling2D) (None, 112, 112, 32) 0           spatial_dropout2d_31[0][0]       \n",
            "__________________________________________________________________________________________________\n",
            "concatenate_14 (Concatenate)    (None, 112, 112, 48) 0           up_sampling2d_14[0][0]           \n",
            "                                                                 spatial_dropout2d_24[0][0]       \n",
            "__________________________________________________________________________________________________\n",
            "conv2d_65 (Conv2D)              (None, 112, 112, 16) 6928        concatenate_14[0][0]             \n",
            "__________________________________________________________________________________________________\n",
            "batch_normalization_63 (BatchNo (None, 112, 112, 16) 64          conv2d_65[0][0]                  \n",
            "__________________________________________________________________________________________________\n",
            "activation_65 (Activation)      (None, 112, 112, 16) 0           batch_normalization_63[0][0]     \n",
            "__________________________________________________________________________________________________\n",
            "conv2d_66 (Conv2D)              (None, 112, 112, 16) 2320        activation_65[0][0]              \n",
            "__________________________________________________________________________________________________\n",
            "batch_normalization_64 (BatchNo (None, 112, 112, 16) 64          conv2d_66[0][0]                  \n",
            "__________________________________________________________________________________________________\n",
            "activation_66 (Activation)      (None, 112, 112, 16) 0           batch_normalization_64[0][0]     \n",
            "__________________________________________________________________________________________________\n",
            "spatial_dropout2d_32 (SpatialDr (None, 112, 112, 16) 0           activation_66[0][0]              \n",
            "__________________________________________________________________________________________________\n",
            "up_sampling2d_15 (UpSampling2D) (None, 224, 224, 16) 0           spatial_dropout2d_32[0][0]       \n",
            "__________________________________________________________________________________________________\n",
            "concatenate_15 (Concatenate)    (None, 224, 224, 24) 0           up_sampling2d_15[0][0]           \n",
            "                                                                 spatial_dropout2d_23[0][0]       \n",
            "__________________________________________________________________________________________________\n",
            "conv2d_67 (Conv2D)              (None, 224, 224, 8)  1736        concatenate_15[0][0]             \n",
            "__________________________________________________________________________________________________\n",
            "batch_normalization_65 (BatchNo (None, 224, 224, 8)  32          conv2d_67[0][0]                  \n",
            "__________________________________________________________________________________________________\n",
            "activation_67 (Activation)      (None, 224, 224, 8)  0           batch_normalization_65[0][0]     \n",
            "__________________________________________________________________________________________________\n",
            "conv2d_68 (Conv2D)              (None, 224, 224, 8)  584         activation_67[0][0]              \n",
            "__________________________________________________________________________________________________\n",
            "batch_normalization_66 (BatchNo (None, 224, 224, 8)  32          conv2d_68[0][0]                  \n",
            "__________________________________________________________________________________________________\n",
            "activation_68 (Activation)      (None, 224, 224, 8)  0           batch_normalization_66[0][0]     \n",
            "__________________________________________________________________________________________________\n",
            "spatial_dropout2d_33 (SpatialDr (None, 224, 224, 8)  0           activation_68[0][0]              \n",
            "__________________________________________________________________________________________________\n",
            "conv2d_69 (Conv2D)              (None, 224, 224, 1)  9           spatial_dropout2d_33[0][0]       \n",
            "__________________________________________________________________________________________________\n",
            "activation_69 (Activation)      (None, 224, 224, 1)  0           conv2d_69[0][0]                  \n",
            "==================================================================================================\n",
            "Total params: 1,972,481\n",
            "Trainable params: 1,969,473\n",
            "Non-trainable params: 3,008\n",
            "__________________________________________________________________________________________________\n"
          ],
          "name": "stdout"
        }
      ]
    },
    {
      "metadata": {
        "id": "tPVsMpbR8ldU",
        "colab_type": "code",
        "colab": {}
      },
      "cell_type": "code",
      "source": [
        "from keras.models import load_model\n",
        "from keras.optimizers import Adam\n",
        "import os\n",
        "\n",
        "out_model_path = 'unet_224_final_model.h5'\n",
        "epochs = 50\n",
        "patience = 20\n",
        "batch_size = 64\n",
        "optim_type = 'Adam'\n",
        "learning_rate = 0.001\n",
        "\n",
        "optim = Adam(lr=learning_rate)\n",
        "\n",
        "model.compile(optimizer=optim, loss=dice_coef_loss, metrics=[dice_coef, jacard_coef])"
      ],
      "execution_count": 0,
      "outputs": []
    },
    {
      "metadata": {
        "id": "6zq5fLtsDFG9",
        "colab_type": "code",
        "outputId": "48994147-9718-4ffa-873a-df8f063dca4a",
        "colab": {
          "base_uri": "https://localhost:8080/",
          "height": 1875
        }
      },
      "cell_type": "code",
      "source": [
        "history = model.fit(\n",
        "    x = imgs,\n",
        "    y = masks,\n",
        "    batch_size = 64,\n",
        "    epochs=50,\n",
        "    validation_split = 0.1,\n",
        "    verbose=1)"
      ],
      "execution_count": 0,
      "outputs": [
        {
          "output_type": "stream",
          "text": [
            "Train on 124 samples, validate on 14 samples\n",
            "Epoch 1/50\n",
            "124/124 [==============================] - 69s 555ms/step - loss: -1.0468 - dice_coef: 1.0468 - jacard_coef: 1.1074 - val_loss: -1.2987 - val_dice_coef: 1.2987 - val_jacard_coef: 1.8518\n",
            "Epoch 2/50\n",
            "124/124 [==============================] - 59s 476ms/step - loss: -1.2259 - dice_coef: 1.2259 - jacard_coef: 1.5954 - val_loss: -1.4568 - val_dice_coef: 1.4568 - val_jacard_coef: 2.6819\n",
            "Epoch 3/50\n",
            "124/124 [==============================] - 59s 473ms/step - loss: -1.3367 - dice_coef: 1.3367 - jacard_coef: 2.0188 - val_loss: -1.5946 - val_dice_coef: 1.5946 - val_jacard_coef: 3.9338\n",
            "Epoch 4/50\n",
            "124/124 [==============================] - 59s 476ms/step - loss: -1.4240 - dice_coef: 1.4240 - jacard_coef: 2.4721 - val_loss: -1.6747 - val_dice_coef: 1.6747 - val_jacard_coef: 5.1485\n",
            "Epoch 5/50\n",
            "124/124 [==============================] - 59s 479ms/step - loss: -1.5690 - dice_coef: 1.5690 - jacard_coef: 3.6434 - val_loss: -1.7606 - val_dice_coef: 1.7606 - val_jacard_coef: 7.3545\n",
            "Epoch 6/50\n",
            "124/124 [==============================] - 59s 477ms/step - loss: -1.5700 - dice_coef: 1.5700 - jacard_coef: 3.6549 - val_loss: -1.7758 - val_dice_coef: 1.7758 - val_jacard_coef: 7.9208\n",
            "Epoch 7/50\n",
            "124/124 [==============================] - 59s 475ms/step - loss: -1.6554 - dice_coef: 1.6554 - jacard_coef: 4.8201 - val_loss: -1.8150 - val_dice_coef: 1.8150 - val_jacard_coef: 9.8130\n",
            "Epoch 8/50\n",
            "124/124 [==============================] - 59s 476ms/step - loss: -1.7094 - dice_coef: 1.7094 - jacard_coef: 6.0253 - val_loss: -1.8390 - val_dice_coef: 1.8390 - val_jacard_coef: 11.4254\n",
            "Epoch 9/50\n",
            "124/124 [==============================] - 59s 475ms/step - loss: -1.7366 - dice_coef: 1.7366 - jacard_coef: 6.6068 - val_loss: -1.8881 - val_dice_coef: 1.8881 - val_jacard_coef: 16.8782\n",
            "Epoch 10/50\n",
            "124/124 [==============================] - 59s 477ms/step - loss: -1.7295 - dice_coef: 1.7295 - jacard_coef: 6.5794 - val_loss: -1.9072 - val_dice_coef: 1.9072 - val_jacard_coef: 20.5606\n",
            "Epoch 11/50\n",
            "124/124 [==============================] - 59s 476ms/step - loss: -1.7447 - dice_coef: 1.7447 - jacard_coef: 6.8466 - val_loss: -1.9362 - val_dice_coef: 1.9362 - val_jacard_coef: 30.3335\n",
            "Epoch 12/50\n",
            "124/124 [==============================] - 59s 475ms/step - loss: -1.7410 - dice_coef: 1.7410 - jacard_coef: 6.7253 - val_loss: -1.9497 - val_dice_coef: 1.9497 - val_jacard_coef: 38.7818\n",
            "Epoch 13/50\n",
            "124/124 [==============================] - 59s 475ms/step - loss: -1.7509 - dice_coef: 1.7509 - jacard_coef: 7.1017 - val_loss: -1.9467 - val_dice_coef: 1.9467 - val_jacard_coef: 36.4988\n",
            "Epoch 14/50\n",
            "124/124 [==============================] - 58s 471ms/step - loss: -1.8166 - dice_coef: 1.8166 - jacard_coef: 9.9921 - val_loss: -1.9620 - val_dice_coef: 1.9620 - val_jacard_coef: 51.6085\n",
            "Epoch 15/50\n",
            "124/124 [==============================] - 59s 472ms/step - loss: -1.8041 - dice_coef: 1.8041 - jacard_coef: 9.2394 - val_loss: -1.9640 - val_dice_coef: 1.9640 - val_jacard_coef: 54.5595\n",
            "Epoch 16/50\n",
            "124/124 [==============================] - 58s 472ms/step - loss: -1.7881 - dice_coef: 1.7881 - jacard_coef: 8.4893 - val_loss: -1.9612 - val_dice_coef: 1.9612 - val_jacard_coef: 50.5568\n",
            "Epoch 17/50\n",
            "124/124 [==============================] - 58s 468ms/step - loss: -1.8488 - dice_coef: 1.8488 - jacard_coef: 12.2332 - val_loss: -1.9642 - val_dice_coef: 1.9642 - val_jacard_coef: 54.8469\n",
            "Epoch 18/50\n",
            "124/124 [==============================] - 58s 470ms/step - loss: -1.8101 - dice_coef: 1.8101 - jacard_coef: 9.5351 - val_loss: -1.9667 - val_dice_coef: 1.9667 - val_jacard_coef: 59.1359\n",
            "Epoch 19/50\n",
            "124/124 [==============================] - 59s 474ms/step - loss: -1.8034 - dice_coef: 1.8034 - jacard_coef: 9.1764 - val_loss: -1.9648 - val_dice_coef: 1.9648 - val_jacard_coef: 55.7972\n",
            "Epoch 20/50\n",
            "124/124 [==============================] - 59s 477ms/step - loss: -1.8258 - dice_coef: 1.8258 - jacard_coef: 10.4837 - val_loss: -1.9618 - val_dice_coef: 1.9618 - val_jacard_coef: 51.3128\n",
            "Epoch 21/50\n",
            "124/124 [==============================] - 59s 478ms/step - loss: -1.8041 - dice_coef: 1.8041 - jacard_coef: 9.3939 - val_loss: -1.9593 - val_dice_coef: 1.9593 - val_jacard_coef: 48.1745\n",
            "Epoch 22/50\n",
            "124/124 [==============================] - 59s 473ms/step - loss: -1.8035 - dice_coef: 1.8035 - jacard_coef: 9.8564 - val_loss: -1.9558 - val_dice_coef: 1.9558 - val_jacard_coef: 44.2827\n",
            "Epoch 23/50\n",
            "124/124 [==============================] - 58s 469ms/step - loss: -1.8342 - dice_coef: 1.8342 - jacard_coef: 11.4017 - val_loss: -1.9514 - val_dice_coef: 1.9514 - val_jacard_coef: 40.1418\n",
            "Epoch 24/50\n",
            "124/124 [==============================] - 58s 468ms/step - loss: -1.8500 - dice_coef: 1.8500 - jacard_coef: 12.3597 - val_loss: -1.9501 - val_dice_coef: 1.9501 - val_jacard_coef: 39.0889\n",
            "Epoch 25/50\n",
            "124/124 [==============================] - 58s 470ms/step - loss: -1.8268 - dice_coef: 1.8268 - jacard_coef: 10.5729 - val_loss: -1.9517 - val_dice_coef: 1.9517 - val_jacard_coef: 40.4003\n",
            "Epoch 26/50\n",
            "124/124 [==============================] - 58s 470ms/step - loss: -1.8103 - dice_coef: 1.8103 - jacard_coef: 9.5890 - val_loss: -1.9508 - val_dice_coef: 1.9508 - val_jacard_coef: 39.6824\n",
            "Epoch 27/50\n",
            "124/124 [==============================] - 58s 469ms/step - loss: -1.8517 - dice_coef: 1.8517 - jacard_coef: 12.4934 - val_loss: -1.9496 - val_dice_coef: 1.9496 - val_jacard_coef: 38.6919\n",
            "Epoch 28/50\n",
            "124/124 [==============================] - 58s 468ms/step - loss: -1.8231 - dice_coef: 1.8231 - jacard_coef: 10.4349 - val_loss: -1.9492 - val_dice_coef: 1.9492 - val_jacard_coef: 38.3349\n",
            "Epoch 29/50\n",
            "124/124 [==============================] - 58s 467ms/step - loss: -1.8446 - dice_coef: 1.8446 - jacard_coef: 11.8717 - val_loss: -1.9462 - val_dice_coef: 1.9462 - val_jacard_coef: 36.1668\n",
            "Epoch 30/50\n",
            "124/124 [==============================] - 58s 468ms/step - loss: -1.8613 - dice_coef: 1.8613 - jacard_coef: 14.3670 - val_loss: -1.9437 - val_dice_coef: 1.9437 - val_jacard_coef: 34.5023\n",
            "Epoch 31/50\n",
            "124/124 [==============================] - 58s 468ms/step - loss: -1.8302 - dice_coef: 1.8302 - jacard_coef: 10.8311 - val_loss: -1.9419 - val_dice_coef: 1.9419 - val_jacard_coef: 33.4331\n",
            "Epoch 32/50\n",
            "124/124 [==============================] - 58s 470ms/step - loss: -1.8468 - dice_coef: 1.8468 - jacard_coef: 12.2580 - val_loss: -1.9401 - val_dice_coef: 1.9401 - val_jacard_coef: 32.3643\n",
            "Epoch 33/50\n",
            "124/124 [==============================] - 58s 469ms/step - loss: -1.8257 - dice_coef: 1.8257 - jacard_coef: 10.6440 - val_loss: -1.9379 - val_dice_coef: 1.9379 - val_jacard_coef: 31.2111\n",
            "Epoch 34/50\n",
            "124/124 [==============================] - 58s 468ms/step - loss: -1.8533 - dice_coef: 1.8533 - jacard_coef: 12.6381 - val_loss: -1.9368 - val_dice_coef: 1.9368 - val_jacard_coef: 30.6687\n",
            "Epoch 35/50\n",
            "124/124 [==============================] - 58s 468ms/step - loss: -1.8645 - dice_coef: 1.8645 - jacard_coef: 15.0265 - val_loss: -1.9365 - val_dice_coef: 1.9365 - val_jacard_coef: 30.4995\n",
            "Epoch 36/50\n",
            "124/124 [==============================] - 58s 469ms/step - loss: -1.8581 - dice_coef: 1.8581 - jacard_coef: 13.1012 - val_loss: -1.9371 - val_dice_coef: 1.9371 - val_jacard_coef: 30.8059\n",
            "Epoch 37/50\n",
            "124/124 [==============================] - 58s 469ms/step - loss: -1.8887 - dice_coef: 1.8887 - jacard_coef: 17.0235 - val_loss: -1.9372 - val_dice_coef: 1.9372 - val_jacard_coef: 30.8613\n",
            "Epoch 38/50\n",
            "124/124 [==============================] - 58s 468ms/step - loss: -1.8772 - dice_coef: 1.8772 - jacard_coef: 15.5199 - val_loss: -1.9367 - val_dice_coef: 1.9367 - val_jacard_coef: 30.5974\n",
            "Epoch 39/50\n",
            "124/124 [==============================] - 58s 468ms/step - loss: -1.8647 - dice_coef: 1.8647 - jacard_coef: 14.1399 - val_loss: -1.9342 - val_dice_coef: 1.9342 - val_jacard_coef: 29.4104\n",
            "Epoch 40/50\n",
            "124/124 [==============================] - 58s 468ms/step - loss: -1.8740 - dice_coef: 1.8740 - jacard_coef: 15.2052 - val_loss: -1.9338 - val_dice_coef: 1.9338 - val_jacard_coef: 29.2022\n",
            "Epoch 41/50\n",
            "124/124 [==============================] - 58s 469ms/step - loss: -1.8335 - dice_coef: 1.8335 - jacard_coef: 11.2367 - val_loss: -1.9335 - val_dice_coef: 1.9335 - val_jacard_coef: 29.0595\n",
            "Epoch 42/50\n",
            "124/124 [==============================] - 58s 469ms/step - loss: -1.8910 - dice_coef: 1.8910 - jacard_coef: 17.4400 - val_loss: -1.9339 - val_dice_coef: 1.9339 - val_jacard_coef: 29.2709\n",
            "Epoch 43/50\n",
            "124/124 [==============================] - 58s 467ms/step - loss: -1.8756 - dice_coef: 1.8756 - jacard_coef: 15.1004 - val_loss: -1.9333 - val_dice_coef: 1.9333 - val_jacard_coef: 28.9802\n",
            "Epoch 44/50\n",
            "124/124 [==============================] - 58s 468ms/step - loss: -1.8733 - dice_coef: 1.8733 - jacard_coef: 15.1105 - val_loss: -1.9330 - val_dice_coef: 1.9330 - val_jacard_coef: 28.8611\n",
            "Epoch 45/50\n",
            "124/124 [==============================] - 58s 465ms/step - loss: -1.8383 - dice_coef: 1.8383 - jacard_coef: 11.5775 - val_loss: -1.9336 - val_dice_coef: 1.9336 - val_jacard_coef: 29.1239\n",
            "Epoch 46/50\n",
            "124/124 [==============================] - 58s 465ms/step - loss: -1.8613 - dice_coef: 1.8613 - jacard_coef: 13.4354 - val_loss: -1.9352 - val_dice_coef: 1.9352 - val_jacard_coef: 29.8691\n",
            "Epoch 47/50\n",
            "124/124 [==============================] - 58s 464ms/step - loss: -1.8769 - dice_coef: 1.8769 - jacard_coef: 15.2734 - val_loss: -1.9363 - val_dice_coef: 1.9363 - val_jacard_coef: 30.3827\n",
            "Epoch 48/50\n",
            "124/124 [==============================] - 58s 466ms/step - loss: -1.8736 - dice_coef: 1.8736 - jacard_coef: 14.8207 - val_loss: -1.9374 - val_dice_coef: 1.9374 - val_jacard_coef: 30.9498\n",
            "Epoch 49/50\n",
            "124/124 [==============================] - 58s 465ms/step - loss: -1.8507 - dice_coef: 1.8507 - jacard_coef: 13.0785 - val_loss: -1.9372 - val_dice_coef: 1.9372 - val_jacard_coef: 30.8536\n",
            "Epoch 50/50\n",
            "124/124 [==============================] - 58s 466ms/step - loss: -1.8764 - dice_coef: 1.8764 - jacard_coef: 15.6268 - val_loss: -1.9378 - val_dice_coef: 1.9378 - val_jacard_coef: 31.1547\n"
          ],
          "name": "stdout"
        }
      ]
    },
    {
      "metadata": {
        "id": "WzD3ZSx4DbRz",
        "colab_type": "code",
        "colab": {}
      },
      "cell_type": "code",
      "source": [
        ""
      ],
      "execution_count": 0,
      "outputs": []
    }
  ]
}